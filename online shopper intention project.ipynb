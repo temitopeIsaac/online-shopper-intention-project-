{
 "cells": [
  {
   "cell_type": "markdown",
   "id": "927cc3e6",
   "metadata": {},
   "source": [
    "## The task of this analysis is to analyse various factors affecting a customer's decision perhaps even make informed recommendations from the results of the investigation. The dataset i will be using is that of an online e-commerce website. i will using bi variate and uni variate techniques to uncover insights in the data\n"
   ]
  },
  {
   "cell_type": "code",
   "execution_count": 1,
   "id": "a510ac20",
   "metadata": {},
   "outputs": [],
   "source": [
    "#import all the necessary libraries \n",
    "\n",
    "import pandas as pd\n",
    "import seaborn as sns\n",
    "import numpy as np\n",
    "import matplotlib.pyplot as plt\n",
    "\n",
    "\n",
    "\n"
   ]
  },
  {
   "cell_type": "code",
   "execution_count": 2,
   "id": "e54e5718",
   "metadata": {},
   "outputs": [],
   "source": [
    "df = pd.read_csv('/Users/admin/Documents/data sci/database/online_shoppers_intention.csv')"
   ]
  },
  {
   "cell_type": "code",
   "execution_count": 3,
   "id": "5dd15ff1",
   "metadata": {},
   "outputs": [
    {
     "data": {
      "text/html": [
       "<div>\n",
       "<style scoped>\n",
       "    .dataframe tbody tr th:only-of-type {\n",
       "        vertical-align: middle;\n",
       "    }\n",
       "\n",
       "    .dataframe tbody tr th {\n",
       "        vertical-align: top;\n",
       "    }\n",
       "\n",
       "    .dataframe thead th {\n",
       "        text-align: right;\n",
       "    }\n",
       "</style>\n",
       "<table border=\"1\" class=\"dataframe\">\n",
       "  <thead>\n",
       "    <tr style=\"text-align: right;\">\n",
       "      <th></th>\n",
       "      <th>Administrative</th>\n",
       "      <th>Administrative_Duration</th>\n",
       "      <th>Informational</th>\n",
       "      <th>Informational_Duration</th>\n",
       "      <th>ProductRelated</th>\n",
       "      <th>ProductRelated_Duration</th>\n",
       "      <th>BounceRates</th>\n",
       "      <th>ExitRates</th>\n",
       "      <th>PageValues</th>\n",
       "      <th>SpecialDay</th>\n",
       "      <th>Month</th>\n",
       "      <th>OperatingSystems</th>\n",
       "      <th>Browser</th>\n",
       "      <th>Region</th>\n",
       "      <th>TrafficType</th>\n",
       "      <th>VisitorType</th>\n",
       "      <th>Weekend</th>\n",
       "      <th>Revenue</th>\n",
       "    </tr>\n",
       "  </thead>\n",
       "  <tbody>\n",
       "    <tr>\n",
       "      <th>0</th>\n",
       "      <td>0</td>\n",
       "      <td>0.0</td>\n",
       "      <td>0</td>\n",
       "      <td>0.0</td>\n",
       "      <td>1</td>\n",
       "      <td>0.000000</td>\n",
       "      <td>0.20</td>\n",
       "      <td>0.20</td>\n",
       "      <td>0.0</td>\n",
       "      <td>0.0</td>\n",
       "      <td>Feb</td>\n",
       "      <td>1</td>\n",
       "      <td>1</td>\n",
       "      <td>1</td>\n",
       "      <td>1</td>\n",
       "      <td>Returning_Visitor</td>\n",
       "      <td>False</td>\n",
       "      <td>False</td>\n",
       "    </tr>\n",
       "    <tr>\n",
       "      <th>1</th>\n",
       "      <td>0</td>\n",
       "      <td>0.0</td>\n",
       "      <td>0</td>\n",
       "      <td>0.0</td>\n",
       "      <td>2</td>\n",
       "      <td>64.000000</td>\n",
       "      <td>0.00</td>\n",
       "      <td>0.10</td>\n",
       "      <td>0.0</td>\n",
       "      <td>0.0</td>\n",
       "      <td>Feb</td>\n",
       "      <td>2</td>\n",
       "      <td>2</td>\n",
       "      <td>1</td>\n",
       "      <td>2</td>\n",
       "      <td>Returning_Visitor</td>\n",
       "      <td>False</td>\n",
       "      <td>False</td>\n",
       "    </tr>\n",
       "    <tr>\n",
       "      <th>2</th>\n",
       "      <td>0</td>\n",
       "      <td>0.0</td>\n",
       "      <td>0</td>\n",
       "      <td>0.0</td>\n",
       "      <td>1</td>\n",
       "      <td>0.000000</td>\n",
       "      <td>0.20</td>\n",
       "      <td>0.20</td>\n",
       "      <td>0.0</td>\n",
       "      <td>0.0</td>\n",
       "      <td>Feb</td>\n",
       "      <td>4</td>\n",
       "      <td>1</td>\n",
       "      <td>9</td>\n",
       "      <td>3</td>\n",
       "      <td>Returning_Visitor</td>\n",
       "      <td>False</td>\n",
       "      <td>False</td>\n",
       "    </tr>\n",
       "    <tr>\n",
       "      <th>3</th>\n",
       "      <td>0</td>\n",
       "      <td>0.0</td>\n",
       "      <td>0</td>\n",
       "      <td>0.0</td>\n",
       "      <td>2</td>\n",
       "      <td>2.666667</td>\n",
       "      <td>0.05</td>\n",
       "      <td>0.14</td>\n",
       "      <td>0.0</td>\n",
       "      <td>0.0</td>\n",
       "      <td>Feb</td>\n",
       "      <td>3</td>\n",
       "      <td>2</td>\n",
       "      <td>2</td>\n",
       "      <td>4</td>\n",
       "      <td>Returning_Visitor</td>\n",
       "      <td>False</td>\n",
       "      <td>False</td>\n",
       "    </tr>\n",
       "    <tr>\n",
       "      <th>4</th>\n",
       "      <td>0</td>\n",
       "      <td>0.0</td>\n",
       "      <td>0</td>\n",
       "      <td>0.0</td>\n",
       "      <td>10</td>\n",
       "      <td>627.500000</td>\n",
       "      <td>0.02</td>\n",
       "      <td>0.05</td>\n",
       "      <td>0.0</td>\n",
       "      <td>0.0</td>\n",
       "      <td>Feb</td>\n",
       "      <td>3</td>\n",
       "      <td>3</td>\n",
       "      <td>1</td>\n",
       "      <td>4</td>\n",
       "      <td>Returning_Visitor</td>\n",
       "      <td>True</td>\n",
       "      <td>False</td>\n",
       "    </tr>\n",
       "  </tbody>\n",
       "</table>\n",
       "</div>"
      ],
      "text/plain": [
       "   Administrative  Administrative_Duration  Informational  \\\n",
       "0               0                      0.0              0   \n",
       "1               0                      0.0              0   \n",
       "2               0                      0.0              0   \n",
       "3               0                      0.0              0   \n",
       "4               0                      0.0              0   \n",
       "\n",
       "   Informational_Duration  ProductRelated  ProductRelated_Duration  \\\n",
       "0                     0.0               1                 0.000000   \n",
       "1                     0.0               2                64.000000   \n",
       "2                     0.0               1                 0.000000   \n",
       "3                     0.0               2                 2.666667   \n",
       "4                     0.0              10               627.500000   \n",
       "\n",
       "   BounceRates  ExitRates  PageValues  SpecialDay Month  OperatingSystems  \\\n",
       "0         0.20       0.20         0.0         0.0   Feb                 1   \n",
       "1         0.00       0.10         0.0         0.0   Feb                 2   \n",
       "2         0.20       0.20         0.0         0.0   Feb                 4   \n",
       "3         0.05       0.14         0.0         0.0   Feb                 3   \n",
       "4         0.02       0.05         0.0         0.0   Feb                 3   \n",
       "\n",
       "   Browser  Region  TrafficType        VisitorType  Weekend  Revenue  \n",
       "0        1       1            1  Returning_Visitor    False    False  \n",
       "1        2       1            2  Returning_Visitor    False    False  \n",
       "2        1       9            3  Returning_Visitor    False    False  \n",
       "3        2       2            4  Returning_Visitor    False    False  \n",
       "4        3       1            4  Returning_Visitor     True    False  "
      ]
     },
     "execution_count": 3,
     "metadata": {},
     "output_type": "execute_result"
    }
   ],
   "source": [
    "#lets peek at the data \n",
    "df.head()"
   ]
  },
  {
   "cell_type": "code",
   "execution_count": 4,
   "id": "21d5a3c8",
   "metadata": {
    "scrolled": true
   },
   "outputs": [
    {
     "name": "stdout",
     "output_type": "stream",
     "text": [
      "<class 'pandas.core.frame.DataFrame'>\n",
      "RangeIndex: 12330 entries, 0 to 12329\n",
      "Data columns (total 18 columns):\n",
      " #   Column                   Non-Null Count  Dtype  \n",
      "---  ------                   --------------  -----  \n",
      " 0   Administrative           12330 non-null  int64  \n",
      " 1   Administrative_Duration  12330 non-null  float64\n",
      " 2   Informational            12330 non-null  int64  \n",
      " 3   Informational_Duration   12330 non-null  float64\n",
      " 4   ProductRelated           12330 non-null  int64  \n",
      " 5   ProductRelated_Duration  12330 non-null  float64\n",
      " 6   BounceRates              12330 non-null  float64\n",
      " 7   ExitRates                12330 non-null  float64\n",
      " 8   PageValues               12330 non-null  float64\n",
      " 9   SpecialDay               12330 non-null  float64\n",
      " 10  Month                    12330 non-null  object \n",
      " 11  OperatingSystems         12330 non-null  int64  \n",
      " 12  Browser                  12330 non-null  int64  \n",
      " 13  Region                   12330 non-null  int64  \n",
      " 14  TrafficType              12330 non-null  int64  \n",
      " 15  VisitorType              12330 non-null  object \n",
      " 16  Weekend                  12330 non-null  bool   \n",
      " 17  Revenue                  12330 non-null  bool   \n",
      "dtypes: bool(2), float64(7), int64(7), object(2)\n",
      "memory usage: 1.5+ MB\n"
     ]
    }
   ],
   "source": [
    "df.info()"
   ]
  },
  {
   "cell_type": "code",
   "execution_count": 5,
   "id": "eb9587bd",
   "metadata": {},
   "outputs": [
    {
     "data": {
      "text/plain": [
       "Administrative             0\n",
       "Administrative_Duration    0\n",
       "Informational              0\n",
       "Informational_Duration     0\n",
       "ProductRelated             0\n",
       "ProductRelated_Duration    0\n",
       "BounceRates                0\n",
       "ExitRates                  0\n",
       "PageValues                 0\n",
       "SpecialDay                 0\n",
       "Month                      0\n",
       "OperatingSystems           0\n",
       "Browser                    0\n",
       "Region                     0\n",
       "TrafficType                0\n",
       "VisitorType                0\n",
       "Weekend                    0\n",
       "Revenue                    0\n",
       "dtype: int64"
      ]
     },
     "execution_count": 5,
     "metadata": {},
     "output_type": "execute_result"
    }
   ],
   "source": [
    "#lets check for null values\n",
    "df.isna().sum()"
   ]
  },
  {
   "cell_type": "markdown",
   "id": "acd5a520",
   "metadata": {},
   "source": [
    "### Column Descriptions:\n",
    "Administrative: This is the number of pages of this type (administrative) that the user visited.\n",
    "\n",
    "Administrative_Duration: This is the amount of time spent in this category of pages.\n",
    "\n",
    "Informational: This is the number of pages of this type (informational) that the user visited.\n",
    "\n",
    "Informational_Duration: This is the amount of time spent in this category of pages.\n",
    "\n",
    "ProductRelated: This is the number of pages of this type (product related) that the user visited.\n",
    "\n",
    "ProductRelated_Duration: This is the amount of time spent in this category of pages.\n",
    "\n",
    "BounceRates: The percentage of visitors who enter the website through that page and exit without triggering any additional tasks.\n",
    "\n",
    "ExitRates: The percentage of pageviews on the website that end at that specific page.\n",
    "\n",
    "PageValues: The average value of the page averaged over the value of the target page and/or the completion of an eCommerce transaction.\n",
    "\n",
    "SpecialDay: This value represents the closeness of the browsing date to special days or holidays (eg Mother's Day or Valentine's day) in which the transaction is more likely to be finalized. More information about how this value is calculated below.\n",
    "\n",
    "Month: Contains the month the pageview occurred, in string form.\n",
    "\n",
    "OperatingSystems: An integer value representing the operating system that the user was on when viewing the page.\n",
    "\n",
    "Browser: An integer value representing the browser that the user was using to view the page.\n",
    "\n",
    "Region: An integer value representing which region the user is located in.\n",
    "\n",
    "TrafficType: An integer value representing what type of traffic the user is categorized into.\n",
    "\n",
    "VisitorType: A string representing whether a visitor is New Visitor, Returning Visitor, or Other.\n",
    "\n",
    "Weekend: A boolean representing whether the session is on a weekend.\n",
    "\n",
    "Revenue: A boolean representing whether or not the user completed the purchase.    \n",
    "    "
   ]
  },
  {
   "cell_type": "code",
   "execution_count": null,
   "id": "9668eab3",
   "metadata": {},
   "outputs": [],
   "source": [
    "#nice... the data shows that there are no missing values. "
   ]
  },
  {
   "cell_type": "code",
   "execution_count": null,
   "id": "750140a2",
   "metadata": {},
   "outputs": [],
   "source": [
    "## univariate analysis. Lets start by looking at the following features in some more detail:\n",
    "• Revenue column\n",
    "• Visitor type\n",
    "• Traffic type\n",
    "• Region\n",
    "• Weekend-wise distribution\n",
    "• Browser and operating system\n",
    "• Administrative page\n",
    "• Information page\n",
    "• Special day\n"
   ]
  },
  {
   "cell_type": "markdown",
   "id": "16315982",
   "metadata": {},
   "source": [
    "## lets take a look at the baseline conversion rate from the revenue column\n",
    "This feature simply refers to how many of the online shopping sessions ended in a purchase."
   ]
  },
  {
   "cell_type": "code",
   "execution_count": 12,
   "id": "37b1e447",
   "metadata": {},
   "outputs": [
    {
     "name": "stderr",
     "output_type": "stream",
     "text": [
      "/Applications/anaconda3/lib/python3.9/site-packages/seaborn/_decorators.py:36: FutureWarning: Pass the following variable as a keyword arg: x. From version 0.12, the only valid positional argument will be `data`, and passing other arguments without an explicit keyword will result in an error or misinterpretation.\n",
      "  warnings.warn(\n"
     ]
    },
    {
     "data": {
      "image/png": "[encoded data removed]",
      "text/plain": [
       "<Figure size 432x288 with 1 Axes>"
      ]
     },
     "metadata": {
      "needs_background": "light"
     },
     "output_type": "display_data"
    }
   ],
   "source": [
    "sns.countplot(df['Revenue'])\n",
    "plt.title('Baseline Revenue conversion', fontsize = 20)\n",
    "plt.show()"
   ]
  },
  {
   "cell_type": "markdown",
   "id": "d49a7111",
   "metadata": {},
   "source": [
    "from the preceding graph it is very clear there is a higher percentage of false count than true\n",
    "lets use the value_count() fuction to get the actual values. "
   ]
  },
  {
   "cell_type": "code",
   "execution_count": 13,
   "id": "f0d3b5b5",
   "metadata": {},
   "outputs": [
    {
     "name": "stdout",
     "output_type": "stream",
     "text": [
      "False    10422\n",
      "True      1908\n",
      "Name: Revenue, dtype: int64\n",
      "\n",
      "False    0.845255\n",
      "True     0.154745\n",
      "Name: Revenue, dtype: float64\n"
     ]
    }
   ],
   "source": [
    "print(df['Revenue'].value_counts())\n",
    "print()\n",
    "print(df['Revenue'].value_counts(normalize=True)) "
   ]
  },
  {
   "cell_type": "code",
   "execution_count": null,
   "id": "5d52eeea",
   "metadata": {},
   "outputs": [],
   "source": [
    "What do the results tell us? \n",
    "\n",
    "a total of 1,908 customers ended up making a purchase, while 10,422 customers did not.\n",
    "\n",
    "The baseline conversion rate of online visitors versus overall visitors is a ratio\n",
    "between the total number of online sessions that led to a purchase divided by the\n",
    "total number of sessions. \n",
    "\n",
    "This is calculated as follows:\n",
    "1908/12330 * 100 = 15.47%\n",
    "\n",
    "The overall number of visitors is 12,330, Thus, the conversion rate is 15.47%"
   ]
  },
  {
   "cell_type": "markdown",
   "id": "3854db41",
   "metadata": {},
   "source": [
    "## visitor wise distribution\n",
    "the next task is to analyse the visitor wide distribution, determine which percentages of the category of \n",
    "visitors is higher.\n"
   ]
  },
  {
   "cell_type": "code",
   "execution_count": 14,
   "id": "36c27184",
   "metadata": {},
   "outputs": [
    {
     "name": "stderr",
     "output_type": "stream",
     "text": [
      "/Applications/anaconda3/lib/python3.9/site-packages/seaborn/_decorators.py:36: FutureWarning: Pass the following variable as a keyword arg: x. From version 0.12, the only valid positional argument will be `data`, and passing other arguments without an explicit keyword will result in an error or misinterpretation.\n",
      "  warnings.warn(\n"
     ]
    },
    {
     "data": {
      "image/png": "[encoded data removed]",
      "text/plain": [
       "<Figure size 432x288 with 1 Axes>"
      ]
     },
     "metadata": {
      "needs_background": "light"
     },
     "output_type": "display_data"
    }
   ],
   "source": [
    "sns.countplot(df['VisitorType'])\n",
    "plt.title('Visitor Type wise Distribution', fontsize = 20)\n",
    "plt.show()"
   ]
  },
  {
   "cell_type": "code",
   "execution_count": 15,
   "id": "6d7b68db",
   "metadata": {},
   "outputs": [
    {
     "name": "stdout",
     "output_type": "stream",
     "text": [
      "Returning_Visitor    10551\n",
      "New_Visitor           1694\n",
      "Other                   85\n",
      "Name: VisitorType, dtype: int64\n",
      "\n",
      "Returning_Visitor    0.855718\n",
      "New_Visitor          0.137388\n",
      "Other                0.006894\n",
      "Name: VisitorType, dtype: float64\n"
     ]
    }
   ],
   "source": [
    "#Next, we calculate the exact number of visitors belonging to each type:\n",
    " \n",
    "print(df['VisitorType'].value_counts())\n",
    "print()\n",
    "print(df['VisitorType'].value_counts(normalize=True))"
   ]
  },
  {
   "cell_type": "code",
   "execution_count": null,
   "id": "a15902fd",
   "metadata": {},
   "outputs": [],
   "source": [
    "from the graph and value count it is clear that the number of returning visitors outweigh the no of new visitors \n",
    "and others. This is good news because this shows that we are good at attracting visitors back to our site."
   ]
  },
  {
   "cell_type": "markdown",
   "id": "be83d85a",
   "metadata": {},
   "source": [
    "## Traffic type distrtibution"
   ]
  },
  {
   "cell_type": "code",
   "execution_count": null,
   "id": "1559578c",
   "metadata": {},
   "outputs": [],
   "source": [
    "Let's consider the distribution of traffic. \n",
    "\n",
    "Find out how the visitors visit our page to determine what amount of site traffic is accounted \n",
    "for by direct visitors (meaning they enter the URL into the browser) and how much is generated \n",
    "through other mediums, such as blogs or advertisements.\n",
    "\n",
    "Plot a countplot for the traffic type to visulize this:\n"
   ]
  },
  {
   "cell_type": "code",
   "execution_count": 16,
   "id": "930663c3",
   "metadata": {},
   "outputs": [
    {
     "name": "stderr",
     "output_type": "stream",
     "text": [
      "/Applications/anaconda3/lib/python3.9/site-packages/seaborn/_decorators.py:36: FutureWarning: Pass the following variable as a keyword arg: x. From version 0.12, the only valid positional argument will be `data`, and passing other arguments without an explicit keyword will result in an error or misinterpretation.\n",
      "  warnings.warn(\n"
     ]
    },
    {
     "data": {
      "image/png": "[encoded data removed]",
      "text/plain": [
       "<Figure size 1800x360 with 1 Axes>"
      ]
     },
     "metadata": {
      "needs_background": "light"
     },
     "output_type": "display_data"
    }
   ],
   "source": [
    "plt.figure(figsize = (25,5))\n",
    "sns.countplot(df['TrafficType'])\n",
    "plt.title('Traffic Type wise Distribution', fontsize = 20)\n",
    "plt.show()"
   ]
  },
  {
   "cell_type": "code",
   "execution_count": null,
   "id": "724cda25",
   "metadata": {},
   "outputs": [],
   "source": [
    "it is clear from the graph above that traffic type 2 has the highest count. lets use the value_count() to get\n",
    "the actual values"
   ]
  },
  {
   "cell_type": "code",
   "execution_count": 17,
   "id": "08f37b96",
   "metadata": {},
   "outputs": [
    {
     "name": "stdout",
     "output_type": "stream",
     "text": [
      "2     0.317356\n",
      "1     0.198783\n",
      "3     0.166423\n",
      "4     0.086699\n",
      "13    0.059854\n",
      "10    0.036496\n",
      "6     0.036010\n",
      "8     0.027818\n",
      "5     0.021087\n",
      "11    0.020032\n",
      "20    0.016058\n",
      "9     0.003406\n",
      "7     0.003244\n",
      "15    0.003082\n",
      "19    0.001379\n",
      "14    0.001054\n",
      "18    0.000811\n",
      "16    0.000243\n",
      "12    0.000081\n",
      "17    0.000081\n",
      "Name: TrafficType, dtype: float64\n"
     ]
    }
   ],
   "source": [
    "print(df['TrafficType'].value_counts(normalize=True))"
   ]
  },
  {
   "cell_type": "code",
   "execution_count": null,
   "id": "0062ed44",
   "metadata": {},
   "outputs": [],
   "source": [
    "From the preceding information, we can see that sources 2, 1, 3, and 4 account for\n",
    "the majority of our web traffic.\n",
    "In the following section, we will check the weekend distribution of the customer"
   ]
  },
  {
   "cell_type": "markdown",
   "id": "b2502245",
   "metadata": {},
   "source": [
    "Analyzing the Distribution of Customers Session on the Website\n",
    "\n",
    "let's consider the distribution of customers over days of the week\n",
    "to determine whether customers are more active on weekends or weekdays"
   ]
  },
  {
   "cell_type": "code",
   "execution_count": 18,
   "id": "c9752705",
   "metadata": {},
   "outputs": [
    {
     "name": "stderr",
     "output_type": "stream",
     "text": [
      "/Applications/anaconda3/lib/python3.9/site-packages/seaborn/_decorators.py:36: FutureWarning: Pass the following variable as a keyword arg: x. From version 0.12, the only valid positional argument will be `data`, and passing other arguments without an explicit keyword will result in an error or misinterpretation.\n",
      "  warnings.warn(\n"
     ]
    },
    {
     "data": {
      "image/png": "[encoded data removed]",
      "text/plain": [
       "<Figure size 432x288 with 1 Axes>"
      ]
     },
     "metadata": {
      "needs_background": "light"
     },
     "output_type": "display_data"
    }
   ],
   "source": [
    "sns.countplot(df['Weekend'])\n",
    "plt.title('Weekend distribution', fontsize = 20)\n",
    "plt.show()"
   ]
  },
  {
   "cell_type": "code",
   "execution_count": 19,
   "id": "cc74d103",
   "metadata": {},
   "outputs": [
    {
     "name": "stdout",
     "output_type": "stream",
     "text": [
      "False    9462\n",
      "True     2868\n",
      "Name: Weekend, dtype: int64\n",
      "\n",
      "False    0.767397\n",
      "True     0.232603\n",
      "Name: Weekend, dtype: float64\n"
     ]
    }
   ],
   "source": [
    "#Now, look at the count of each subcategory in the weekend column:\n",
    "    \n",
    "print(df['Weekend'].value_counts())\n",
    "print()\n",
    "print(df['Weekend'].value_counts(normalize=True))\n",
    " "
   ]
  },
  {
   "cell_type": "code",
   "execution_count": null,
   "id": "61d5046c",
   "metadata": {},
   "outputs": [],
   "source": [
    "From the count of the False subcategory, we can see that more visitors visit during\n",
    "weekdays than weekend days."
   ]
  },
  {
   "cell_type": "code",
   "execution_count": null,
   "id": "b46d7e46",
   "metadata": {},
   "outputs": [],
   "source": [
    "#Next, we look at the region-wise distribution of the sessions. "
   ]
  },
  {
   "cell_type": "code",
   "execution_count": 20,
   "id": "09f48a73",
   "metadata": {},
   "outputs": [
    {
     "name": "stderr",
     "output_type": "stream",
     "text": [
      "/Applications/anaconda3/lib/python3.9/site-packages/seaborn/_decorators.py:36: FutureWarning: Pass the following variable as a keyword arg: x. From version 0.12, the only valid positional argument will be `data`, and passing other arguments without an explicit keyword will result in an error or misinterpretation.\n",
      "  warnings.warn(\n"
     ]
    },
    {
     "data": {
      "image/png": "[encoded data removed]",
      "text/plain": [
       "<Figure size 432x288 with 1 Axes>"
      ]
     },
     "metadata": {
      "needs_background": "light"
     },
     "output_type": "display_data"
    }
   ],
   "source": [
    "sns.countplot(df['Region'])\n",
    "plt.title('Region wise Distribution', fontsize = 20)\n",
    "plt.show()"
   ]
  },
  {
   "cell_type": "code",
   "execution_count": 21,
   "id": "5cd948ea",
   "metadata": {},
   "outputs": [
    {
     "name": "stdout",
     "output_type": "stream",
     "text": [
      "1    4780\n",
      "3    2403\n",
      "4    1182\n",
      "2    1136\n",
      "6     805\n",
      "7     761\n",
      "9     511\n",
      "8     434\n",
      "5     318\n",
      "Name: Region, dtype: int64\n",
      "\n",
      "1    0.387672\n",
      "3    0.194891\n",
      "4    0.095864\n",
      "2    0.092133\n",
      "6    0.065288\n",
      "7    0.061719\n",
      "9    0.041444\n",
      "8    0.035199\n",
      "5    0.025791\n",
      "Name: Region, dtype: float64\n"
     ]
    }
   ],
   "source": [
    "print(df['Region'].value_counts())\n",
    "print()\n",
    "print(df['Region'].value_counts(normalize=True))"
   ]
  },
  {
   "cell_type": "code",
   "execution_count": null,
   "id": "a128532a",
   "metadata": {},
   "outputs": [],
   "source": [
    "From the preceding graph, the numbers 1, 2, and so on represent the different\n",
    "regions that the data is sourced from. \n",
    "We can see that Region 1 has the highest number of visitors visiting our website."
   ]
  },
  {
   "cell_type": "markdown",
   "id": "69489a49",
   "metadata": {},
   "source": [
    "## we will be checking the distribution of browsers and operating systems used by customers to determine which type of browser and OS is used by our visitors. \n",
    "This information will allow us to configure our website so that we can make it more responsive and user-friendly.\n",
    "\n"
   ]
  },
  {
   "cell_type": "code",
   "execution_count": 22,
   "id": "c1136a4d",
   "metadata": {},
   "outputs": [
    {
     "name": "stderr",
     "output_type": "stream",
     "text": [
      "/Applications/anaconda3/lib/python3.9/site-packages/seaborn/_decorators.py:36: FutureWarning: Pass the following variable as a keyword arg: x. From version 0.12, the only valid positional argument will be `data`, and passing other arguments without an explicit keyword will result in an error or misinterpretation.\n",
      "  warnings.warn(\n"
     ]
    },
    {
     "data": {
      "image/png": "[encoded data removed]",
      "text/plain": [
       "<Figure size 432x288 with 1 Axes>"
      ]
     },
     "metadata": {
      "needs_background": "light"
     },
     "output_type": "display_data"
    }
   ],
   "source": [
    "sns.countplot(df['Browser'])\n",
    "plt.title('Browser wise session Distribution', fontsize = 20)\n",
    "plt.show()\n"
   ]
  },
  {
   "cell_type": "code",
   "execution_count": 24,
   "id": "668cc844",
   "metadata": {},
   "outputs": [
    {
     "name": "stdout",
     "output_type": "stream",
     "text": [
      "2     7961\n",
      "1     2462\n",
      "4      736\n",
      "5      467\n",
      "6      174\n",
      "10     163\n",
      "8      135\n",
      "3      105\n",
      "13      61\n",
      "7       49\n",
      "12      10\n",
      "11       6\n",
      "9        1\n",
      "Name: Browser, dtype: int64\n",
      "\n",
      "2     0.645661\n",
      "1     0.199676\n",
      "4     0.059692\n",
      "5     0.037875\n",
      "6     0.014112\n",
      "10    0.013220\n",
      "8     0.010949\n",
      "3     0.008516\n",
      "13    0.004947\n",
      "7     0.003974\n",
      "12    0.000811\n",
      "11    0.000487\n",
      "9     0.000081\n",
      "Name: Browser, dtype: float64\n"
     ]
    }
   ],
   "source": [
    "print(df['Browser'].value_counts())\n",
    "print()\n",
    "print(df['Browser'].value_counts(normalize=True))"
   ]
  },
  {
   "cell_type": "code",
   "execution_count": null,
   "id": "09ef350f",
   "metadata": {},
   "outputs": [],
   "source": [
    "#it is clear from the graph and the value count that no 2 is the most used browser perhaps we need to work on \n",
    "optimisation for other browsers."
   ]
  },
  {
   "cell_type": "code",
   "execution_count": 26,
   "id": "12563013",
   "metadata": {},
   "outputs": [],
   "source": [
    "# analysing operating system distribution\n"
   ]
  },
  {
   "cell_type": "code",
   "execution_count": 27,
   "id": "abc821a1",
   "metadata": {},
   "outputs": [
    {
     "name": "stderr",
     "output_type": "stream",
     "text": [
      "/Applications/anaconda3/lib/python3.9/site-packages/seaborn/_decorators.py:36: FutureWarning: Pass the following variable as a keyword arg: x. From version 0.12, the only valid positional argument will be `data`, and passing other arguments without an explicit keyword will result in an error or misinterpretation.\n",
      "  warnings.warn(\n"
     ]
    },
    {
     "data": {
      "image/png": "[encoded data removed]",
      "text/plain": [
       "<Figure size 432x288 with 1 Axes>"
      ]
     },
     "metadata": {
      "needs_background": "light"
     },
     "output_type": "display_data"
    }
   ],
   "source": [
    "sns.countplot(df['OperatingSystems'])\n",
    "plt.title('OS wise session Distribution', fontsize = 20)\n",
    "plt.show()"
   ]
  },
  {
   "cell_type": "code",
   "execution_count": 28,
   "id": "b22e0cb7",
   "metadata": {},
   "outputs": [
    {
     "name": "stdout",
     "output_type": "stream",
     "text": [
      "2    6601\n",
      "1    2585\n",
      "3    2555\n",
      "4     478\n",
      "8      79\n",
      "6      19\n",
      "7       7\n",
      "5       6\n",
      "Name: OperatingSystems, dtype: int64\n",
      "\n",
      "2    0.535361\n",
      "1    0.209651\n",
      "3    0.207218\n",
      "4    0.038767\n",
      "8    0.006407\n",
      "6    0.001541\n",
      "7    0.000568\n",
      "5    0.000487\n",
      "Name: OperatingSystems, dtype: float64\n"
     ]
    }
   ],
   "source": [
    "print(df['OperatingSystems'].value_counts())\n",
    "print()\n",
    "print(df['OperatingSystems'].value_counts(normalize=True))"
   ]
  },
  {
   "cell_type": "code",
   "execution_count": null,
   "id": "177037b2",
   "metadata": {},
   "outputs": [],
   "source": [
    "#it is very clear which operating system contributes the most to website traffic\n",
    "if we know which OS type is the most predominant, we can ask the tech team to configure the website for that\n",
    "particular OS and take the necessary actions, such as explicitly defining CSS for that\n",
    "particular OS and defining valid doctypes."
   ]
  },
  {
   "cell_type": "markdown",
   "id": "cbca9f74",
   "metadata": {},
   "source": [
    "### Information Pageview Distribution"
   ]
  },
  {
   "cell_type": "code",
   "execution_count": null,
   "id": "2183489b",
   "metadata": {},
   "outputs": [],
   "source": [
    "The information pages of a site are the pages where the direct information is presented. \n",
    "The simple web pages that do not generate leads or that are not connected to lead-generating pages \n",
    "can be classified as information pages. \n",
    "\n",
    "For example, contact pages that simply display contact information could be considered as information pages.\n",
    " \n",
    "Now, let's plot the count of visitors visiting the information page.\n",
    "\n",
    "The output will be as follows:"
   ]
  },
  {
   "cell_type": "code",
   "execution_count": 30,
   "id": "a3387d3b",
   "metadata": {},
   "outputs": [
    {
     "name": "stderr",
     "output_type": "stream",
     "text": [
      "/Applications/anaconda3/lib/python3.9/site-packages/seaborn/_decorators.py:36: FutureWarning: Pass the following variable as a keyword arg: x. From version 0.12, the only valid positional argument will be `data`, and passing other arguments without an explicit keyword will result in an error or misinterpretation.\n",
      "  warnings.warn(\n"
     ]
    },
    {
     "data": {
      "image/png": "[encoded data removed]",
      "text/plain": [
       "<Figure size 432x288 with 1 Axes>"
      ]
     },
     "metadata": {
      "needs_background": "light"
     },
     "output_type": "display_data"
    }
   ],
   "source": [
    "# Plot the countplot for the Informational page:\n",
    "sns.countplot(df['Informational'])\n",
    "plt.title('Information Pageview Distribution', fontsize = 16)\n",
    "plt.show()"
   ]
  },
  {
   "cell_type": "code",
   "execution_count": 31,
   "id": "acb5ba4a",
   "metadata": {},
   "outputs": [
    {
     "name": "stdout",
     "output_type": "stream",
     "text": [
      "0     0.786618\n",
      "1     0.084428\n",
      "2     0.059043\n",
      "3     0.030819\n",
      "4     0.018005\n",
      "5     0.008029\n",
      "6     0.006326\n",
      "7     0.002920\n",
      "9     0.001217\n",
      "8     0.001135\n",
      "10    0.000568\n",
      "12    0.000406\n",
      "14    0.000162\n",
      "16    0.000081\n",
      "11    0.000081\n",
      "24    0.000081\n",
      "13    0.000081\n",
      "Name: Informational, dtype: float64\n"
     ]
    }
   ],
   "source": [
    "# To get the percentage count for each information page, we use the normalize=True parameter.\n",
    "print(df['Informational'].value_counts(normalize=True))"
   ]
  },
  {
   "cell_type": "code",
   "execution_count": null,
   "id": "66d50bc4",
   "metadata": {},
   "outputs": [],
   "source": [
    "'''From the preceding graph, we can see that Information page 0 has the highest\n",
    "number of visitors. 79% of users are visiting pages 0 and 1. "
   ]
  },
  {
   "cell_type": "code",
   "execution_count": null,
   "id": "a1f2b7db",
   "metadata": {},
   "outputs": [],
   "source": [
    "### Special Day Session Distribution\n",
    "\n",
    "In this section, we will be looking at the number of visitors during a special day. \n",
    "We would like to know whether special days (such as Valentine's Day) impact the number\n",
    "of users visiting our website.\n",
    "                                            \n",
    "Let's plot the countplot for special days:\n",
    "The output will be as follows:"
   ]
  },
  {
   "cell_type": "code",
   "execution_count": 32,
   "id": "971d35bb",
   "metadata": {},
   "outputs": [
    {
     "name": "stderr",
     "output_type": "stream",
     "text": [
      "/Applications/anaconda3/lib/python3.9/site-packages/seaborn/_decorators.py:36: FutureWarning: Pass the following variable as a keyword arg: x. From version 0.12, the only valid positional argument will be `data`, and passing other arguments without an explicit keyword will result in an error or misinterpretation.\n",
      "  warnings.warn(\n"
     ]
    },
    {
     "data": {
      "image/png": "[encoded data removed]",
      "text/plain": [
       "<Figure size 432x288 with 1 Axes>"
      ]
     },
     "metadata": {
      "needs_background": "light"
     },
     "output_type": "display_data"
    }
   ],
   "source": [
    "sns.countplot(df['SpecialDay'])\n",
    "plt.title('Special Day session Distribution', fontsize = 16)\n",
    "plt.show() "
   ]
  },
  {
   "cell_type": "code",
   "execution_count": 33,
   "id": "5926a830",
   "metadata": {},
   "outputs": [
    {
     "name": "stdout",
     "output_type": "stream",
     "text": [
      "0.0    0.898540\n",
      "0.6    0.028467\n",
      "0.8    0.026358\n",
      "0.4    0.019708\n",
      "0.2    0.014436\n",
      "1.0    0.012490\n",
      "Name: SpecialDay, dtype: float64\n"
     ]
    }
   ],
   "source": [
    "print(df['SpecialDay'].value_counts(normalize=True))"
   ]
  },
  {
   "cell_type": "code",
   "execution_count": null,
   "id": "c76ef1c2",
   "metadata": {},
   "outputs": [],
   "source": [
    "'''From the plot above, we can see that special days have no impact on the number of visitors to our website.\n",
    "\n",
    "From the preceding screenshot, we can see that 89.8% of visitors visited during a\n",
    "non-special day (special day subcategory 0), showing that there is no affinity of web\n",
    "traffic toward special days.'''"
   ]
  },
  {
   "cell_type": "code",
   "execution_count": null,
   "id": "6ae93999",
   "metadata": {},
   "outputs": [],
   "source": [
    "\n",
    "Our univariate analysis of distribution plots covered such factors such as region,\n",
    "month, type of browser... \n",
    "\n",
    "What insights and recommendation have we uncovered so far?\n",
    "\n",
    "- we are good at retaining customers\n",
    "- we need to work on more strategies to generate revenue by customer purchase\n",
    "- customers seem to visit the sites during the weekdays most likely when they are at work.\n",
    "- special days have no effect on website traffic, maybe we need to work on special packages for special \n",
    "ocassion to drive more traffic during special holidays.\n",
    "- customers use a particular OS, we need to optimize the website to better suit the os and others as well.\n",
    "- we have more customers from a particular region, perhaps we could organize special offers for customers from that \n",
    "region and look at more strategies to bring in more customers from other regions as well."
   ]
  },
  {
   "cell_type": "code",
   "execution_count": null,
   "id": "ca16abaa",
   "metadata": {},
   "outputs": [],
   "source": [
    "'''lets do a bivariate analysis to see how most of these features affect the revenue'''"
   ]
  },
  {
   "cell_type": "markdown",
   "id": "1a5c3f8f",
   "metadata": {},
   "source": [
    "## Bivariate analysis"
   ]
  },
  {
   "cell_type": "code",
   "execution_count": 35,
   "id": "13dc029c",
   "metadata": {},
   "outputs": [
    {
     "name": "stderr",
     "output_type": "stream",
     "text": [
      "/Applications/anaconda3/lib/python3.9/site-packages/seaborn/_decorators.py:36: FutureWarning: Pass the following variable as a keyword arg: x. From version 0.12, the only valid positional argument will be `data`, and passing other arguments without an explicit keyword will result in an error or misinterpretation.\n",
      "  warnings.warn(\n"
     ]
    },
    {
     "data": {
      "image/png": "[encoded data removed]",
      "text/plain": [
       "<Figure size 1080x360 with 3 Axes>"
      ]
     },
     "metadata": {
      "needs_background": "light"
     },
     "output_type": "display_data"
    }
   ],
   "source": [
    "g = sns.catplot(\"Revenue\", col=\"VisitorType\", col_wrap=3, data=df,kind=\"count\", height=5, aspect=1)\n",
    "plt.show()"
   ]
  },
  {
   "cell_type": "markdown",
   "id": "f5ef62d3",
   "metadata": {},
   "source": [
    "## from the graph it is clear that the returning visitor generates more revenue than new visitor and other. however it also shows that the rate of conversion to sales of new visitors is higher than the returning visitor"
   ]
  },
  {
   "cell_type": "markdown",
   "id": "69bca96c",
   "metadata": {},
   "source": []
  },
  {
   "cell_type": "markdown",
   "id": "376757f9",
   "metadata": {},
   "source": [
    "## revenue versus traffic type\n",
    "We will be plotting a countplot between revenue and traffic type. The countplot\n",
    "gives you the number of users in each traffic type, and whether or not they made a\n",
    "purchase (shown as True or False in the plot):"
   ]
  },
  {
   "cell_type": "code",
   "execution_count": 37,
   "id": "7a8b74c0",
   "metadata": {},
   "outputs": [
    {
     "data": {
      "image/png": "[encoded data removed]",
      "text/plain": [
       "<Figure size 432x288 with 1 Axes>"
      ]
     },
     "metadata": {
      "needs_background": "light"
     },
     "output_type": "display_data"
    }
   ],
   "source": [
    "sns.countplot(x=\"TrafficType\", hue=\"Revenue\", data=df)\n",
    "plt.legend(loc='right')\n",
    "plt.show()"
   ]
  },
  {
   "cell_type": "markdown",
   "id": "b996e190",
   "metadata": {},
   "source": [
    "### from the plot it is very clear that source 2 with the highest traffic type generated the most revenue. source 1 and source 13 generates a lot of traffic but the conversion rate are very low compared to others.\n"
   ]
  },
  {
   "cell_type": "code",
   "execution_count": 38,
   "id": "3614ff4d",
   "metadata": {},
   "outputs": [],
   "source": [
    "#lets plot for region against revenue"
   ]
  },
  {
   "cell_type": "code",
   "execution_count": 39,
   "id": "dcacc98b",
   "metadata": {},
   "outputs": [
    {
     "data": {
      "image/png": "[encoded data removed]",
      "text/plain": [
       "<Figure size 432x288 with 1 Axes>"
      ]
     },
     "metadata": {
      "needs_background": "light"
     },
     "output_type": "display_data"
    }
   ],
   "source": [
    "sns.countplot(x=\"Region\", hue=\"Revenue\", data=df)\n",
    "plt.show()"
   ]
  },
  {
   "cell_type": "code",
   "execution_count": null,
   "id": "843724f0",
   "metadata": {},
   "outputs": [],
   "source": [
    "From the plot, we can see that region 1 accounts for most sales, and\n",
    "region 3 the second most. \n",
    "\n",
    "With this information, we can plan our marketing and supply chain activities in a better way. \n",
    "\n",
    "For example, we might propose building a warehouse specifically catering to the needs of region 1 to increase delivery\n",
    "rates and ensure that products in the highest demand are always well stocked. "
   ]
  },
  {
   "cell_type": "code",
   "execution_count": null,
   "id": "c0450461",
   "metadata": {},
   "outputs": [],
   "source": [
    "lets consider the relationship between Browser and revenue"
   ]
  },
  {
   "cell_type": "code",
   "execution_count": 40,
   "id": "78b477e7",
   "metadata": {},
   "outputs": [
    {
     "data": {
      "image/png": "[encoded data removed]",
      "text/plain": [
       "<Figure size 432x288 with 1 Axes>"
      ]
     },
     "metadata": {
      "needs_background": "light"
     },
     "output_type": "display_data"
    }
   ],
   "source": [
    "sns.countplot(x=\"Browser\", hue=\"Revenue\", data=df)\n",
    "plt.show()"
   ]
  },
  {
   "cell_type": "code",
   "execution_count": null,
   "id": "81ab0951",
   "metadata": {},
   "outputs": [],
   "source": [
    "As you can see, more revenue-generating transactions have been performed from Browser 2. \n",
    "Even though Browser 1 creates a considerable number of sessions, the conversion rate is low. \n",
    "\n",
    "This is something we need to investigate further.\n",
    "Consider the relationship between Revenue and the OperatingSystems type. "
   ]
  },
  {
   "cell_type": "code",
   "execution_count": 41,
   "id": "e3d41193",
   "metadata": {},
   "outputs": [
    {
     "data": {
      "image/png": "[encoded data removed]",
      "text/plain": [
       "<Figure size 432x288 with 1 Axes>"
      ]
     },
     "metadata": {
      "needs_background": "light"
     },
     "output_type": "display_data"
    }
   ],
   "source": [
    "sns.countplot(x=\"OperatingSystems\", hue=\"Revenue\", data=df)\n",
    "plt.show()"
   ]
  },
  {
   "cell_type": "code",
   "execution_count": null,
   "id": "82b99062",
   "metadata": {},
   "outputs": [],
   "source": [
    "As you can see, more revenue-generating transactions happened with OS 2 than the other types.\n",
    "Now consider the relationship between Revenue (did the session end with a purchase?) and Months."
   ]
  },
  {
   "cell_type": "code",
   "execution_count": 42,
   "id": "b3617688",
   "metadata": {},
   "outputs": [
    {
     "data": {
      "image/png": "[encoded data removed]",
      "text/plain": [
       "<Figure size 432x288 with 1 Axes>"
      ]
     },
     "metadata": {
      "needs_background": "light"
     },
     "output_type": "display_data"
    }
   ],
   "source": [
    "sns.countplot(x=\"Month\", hue=\"Revenue\", data=df,order=['Feb','Mar','May','June','Jul','Aug','Sep','Oct','Nov','Dec'])\n",
    "plt.show()"
   ]
  },
  {
   "cell_type": "code",
   "execution_count": null,
   "id": "7dc520f4",
   "metadata": {},
   "outputs": [],
   "source": [
    "from the preceding graph it is interesting to observe that the the website recorded a lot of visitors in may \n",
    "however the bulk of the sales were made in november. interesting..."
   ]
  },
  {
   "cell_type": "code",
   "execution_count": null,
   "id": "1c5029a8",
   "metadata": {},
   "outputs": [],
   "source": [
    "In this section, we will be studying the linear relationship between the following variables:\n",
    "• Bounce rate versus exit rate\n",
    "• Page value versus bounce rate\n",
    "• Page value versus exit rate\n",
    "• Impact of information page views and information pageview duration on revenue"
   ]
  },
  {
   "cell_type": "code",
   "execution_count": null,
   "id": "af1f3404",
   "metadata": {},
   "outputs": [],
   "source": [
    "## BounceRates versus exit rates\n",
    "\n",
    "The linear relationship between bounce rate versus exit rate can be studied by plotting an LM plot from seaborn.\n",
    "We are setting the x axis as BounceRates, and the y axis as ExitRates. The data is taken from the df DataFrame:\n"
   ]
  },
  {
   "cell_type": "code",
   "execution_count": 4,
   "id": "86474705",
   "metadata": {},
   "outputs": [
    {
     "data": {
      "image/png": "[encoded data removed]",
      "text/plain": [
       "<Figure size 360x360 with 1 Axes>"
      ]
     },
     "metadata": {},
     "output_type": "display_data"
    }
   ],
   "source": [
    "sns.set(style=\"whitegrid\")\n",
    "ax = sns.lmplot(x=\"BounceRates\", y=\"ExitRates\", data=df)"
   ]
  },
  {
   "cell_type": "code",
   "execution_count": null,
   "id": "cdfb2d4a",
   "metadata": {},
   "outputs": [],
   "source": [
    "from the chart above;\n",
    "As you can see, there is a positive correlation between the bounce rate and the exit\n",
    "rate. With the increase in bounce rate, the exit rate of the page increases."
   ]
  },
  {
   "cell_type": "markdown",
   "id": "87f8dcfc",
   "metadata": {},
   "source": [
    "## page value versus Bounce rate"
   ]
  },
  {
   "cell_type": "code",
   "execution_count": 5,
   "id": "dd1a7b1c",
   "metadata": {},
   "outputs": [
    {
     "data": {
      "image/png": "[encoded data removed]",
      "text/plain": [
       "<Figure size 360x360 with 1 Axes>"
      ]
     },
     "metadata": {},
     "output_type": "display_data"
    }
   ],
   "source": [
    "    \n",
    "sns.set(style=\"whitegrid\")\n",
    "ax = sns.lmplot(x=\"PageValues\", y=\"BounceRates\" , data=df)"
   ]
  },
  {
   "cell_type": "markdown",
   "id": "7eefcb51",
   "metadata": {},
   "source": [
    "As we can see in the plot, there is a negative correlation between page value and bounce rate. \n",
    "\n",
    "As the page value increases, the bounce rate decreases. \n",
    "\n",
    "To increase the probability of a customer purchasing with us, we need to improve the\n",
    "page value—perhaps by making the content more engaging or by using images to convey the information. "
   ]
  },
  {
   "cell_type": "code",
   "execution_count": null,
   "id": "ce3e01eb",
   "metadata": {},
   "outputs": [],
   "source": []
  },
  {
   "cell_type": "markdown",
   "id": "79bc1ad4",
   "metadata": {},
   "source": [
    "## page value versus exit rate"
   ]
  },
  {
   "cell_type": "code",
   "execution_count": 6,
   "id": "42224d47",
   "metadata": {},
   "outputs": [
    {
     "data": {
      "image/png": "[encoded data removed]",
      "text/plain": [
       "<Figure size 360x360 with 1 Axes>"
      ]
     },
     "metadata": {},
     "output_type": "display_data"
    }
   ],
   "source": [
    "sns.set(style=\"whitegrid\")\n",
    "ax = sns.lmplot(x=\"PageValues\", y=\"ExitRates\" , data=df)"
   ]
  },
  {
   "cell_type": "code",
   "execution_count": null,
   "id": "a898386f",
   "metadata": {},
   "outputs": [],
   "source": [
    "As we can see in the preceding plot, there is a negative correlation between page\n",
    "value and exit rate. Web pages with a better page value have a lower exit rate."
   ]
  },
  {
   "cell_type": "markdown",
   "id": "931cf543",
   "metadata": {},
   "source": [
    "### Impact of Information Page Views and Information Pageview Duration on Revenue"
   ]
  },
  {
   "cell_type": "code",
   "execution_count": null,
   "id": "12788a32",
   "metadata": {},
   "outputs": [],
   "source": [
    "n this section, we want to look at the relationship between the number of views of the information \n",
    "pages and the amount of time spent on them. Does this relationship have an impact on revenue? If so, how?\n",
    "\n",
    "To study the relationship, draw the LM plot with the x axis as Informational and\n",
    "the y axis as Informational_Duration, and with the hue parameter as Revenue:"
   ]
  },
  {
   "cell_type": "code",
   "execution_count": 7,
   "id": "f15a7372",
   "metadata": {},
   "outputs": [
    {
     "data": {
      "image/png": "[encoded data removed]",
      "text/plain": [
       "<Figure size 426.35x360 with 1 Axes>"
      ]
     },
     "metadata": {},
     "output_type": "display_data"
    }
   ],
   "source": [
    "sns.set(style=\"whitegrid\")\n",
    "ax = sns.lmplot(x=\"Informational\", y=\"Informational_Duration\",\\\n",
    "                hue='Revenue', data=df)"
   ]
  },
  {
   "cell_type": "code",
   "execution_count": null,
   "id": "a5f22424",
   "metadata": {},
   "outputs": [],
   "source": [
    "From the preceding plot, we can conclude the following:\n",
    "    \n",
    "• Information page views and information pageview duration are positively correlated. \n",
    "With an increase in the number of information pageviews, the information pageview duration also increases.\n",
    "• Customers who have made online purchases visited fewer numbers of informational pages. \n",
    "This implies that informational pageviews don't have much effect on revenue generation."
   ]
  },
  {
   "cell_type": "code",
   "execution_count": null,
   "id": "c505f04f",
   "metadata": {},
   "outputs": [],
   "source": []
  },
  {
   "cell_type": "markdown",
   "id": "c6f1b512",
   "metadata": {},
   "source": [
    "## Summary"
   ]
  },
  {
   "cell_type": "code",
   "execution_count": null,
   "id": "a07d9b2b",
   "metadata": {},
   "outputs": [],
   "source": [
    "i focused on the online shopping dataset, wherein i tried to draw insights from a customer's \n",
    "behavior on the site. \n",
    "\n",
    "i analyzed a number of factors, such as conversion rate and total revenue generated.\n",
    "\n",
    "i also performed univariate and bivariate analysis while taking various dataset features into consideration, \n",
    "such as pageview duration, types of visitors, types of traffic, and browsers used. \n",
    "\n",
    "i was able to generate informative insights and provide recommendations that would increase sales on the website"
   ]
  },
  {
   "cell_type": "code",
   "execution_count": null,
   "id": "fc88b447",
   "metadata": {},
   "outputs": [],
   "source": []
  },
  {
   "cell_type": "code",
   "execution_count": null,
   "id": "89bda7f8",
   "metadata": {},
   "outputs": [],
   "source": []
  },
  {
   "cell_type": "code",
   "execution_count": null,
   "id": "176fb60d",
   "metadata": {},
   "outputs": [],
   "source": []
  }
 ],
 "metadata": {
  "kernelspec": {
   "display_name": "Python 3 (ipykernel)",
   "language": "python",
   "name": "python3"
  },
  "language_info": {
   "codemirror_mode": {
    "name": "ipython",
    "version": 3
   },
   "file_extension": ".py",
   "mimetype": "text/x-python",
   "name": "python",
   "nbconvert_exporter": "python",
   "pygments_lexer": "ipython3",
   "version": "3.9.7"
  }
 },
 "nbformat": 4,
 "nbformat_minor": 5
}
